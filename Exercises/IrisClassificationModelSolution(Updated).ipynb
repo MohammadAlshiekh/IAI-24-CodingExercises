{
  "nbformat": 4,
  "nbformat_minor": 0,
  "metadata": {
    "colab": {
      "provenance": []
    },
    "kernelspec": {
      "name": "python3",
      "display_name": "Python 3"
    },
    "language_info": {
      "name": "python"
    }
  },
  "cells": [
    {
      "cell_type": "markdown",
      "source": [
        "#Intorduction\n",
        "\n",
        "The iris.csv file compasses data about flowers and classify them into 3 classes\n",
        "\n",
        "\n",
        "*   Iris-setosa\n",
        "*   Iris-virginica\n",
        "*   Iris-versicolor\n",
        "\n",
        "Our goals is given information about a flower we should predict its class."
      ],
      "metadata": {
        "id": "E-jo-p9Qa_74"
      }
    },
    {
      "cell_type": "markdown",
      "source": [
        "## Import Statements"
      ],
      "metadata": {
        "id": "F4IioWDWLvAS"
      }
    },
    {
      "cell_type": "code",
      "execution_count": 40,
      "metadata": {
        "id": "1kFfcozsLdvC"
      },
      "outputs": [],
      "source": [
        "import numpy as np\n",
        "import pandas as pd\n",
        "import matplotlib.pyplot as plt\n",
        "import torch\n",
        "from torch import nn, optim\n",
        "from sklearn import model_selection"
      ]
    },
    {
      "cell_type": "markdown",
      "source": [
        "## Loading Data"
      ],
      "metadata": {
        "id": "R9aHwe-OLzBR"
      }
    },
    {
      "cell_type": "markdown",
      "source": [
        "Try to read the file 'iris.csv' using **Pandas**.\n",
        "\n",
        "💡 **Hint**: read more about how to read files using **Pandas** [here](https://www.w3schools.com/python/pandas/pandas_csv.asp)."
      ],
      "metadata": {
        "id": "QMFNuWRQMeQ3"
      }
    },
    {
      "cell_type": "code",
      "source": [
        "df = pd.read_csv('iris.csv')"
      ],
      "metadata": {
        "id": "05EV89WqLuBz"
      },
      "execution_count": 41,
      "outputs": []
    },
    {
      "cell_type": "markdown",
      "source": [
        "Print out the data and look at it :D.\n",
        "\n",
        "💡**Hint**: look up [this](https://pandas.pydata.org/docs/reference/api/pandas.DataFrame.head.html) to see how can you print data frames."
      ],
      "metadata": {
        "id": "Jnx-vTrjO0gG"
      }
    },
    {
      "cell_type": "code",
      "source": [
        "df.head()"
      ],
      "metadata": {
        "colab": {
          "base_uri": "https://localhost:8080/",
          "height": 206
        },
        "id": "H_zgocDXGcoK",
        "outputId": "2e617138-6f55-47d4-d88b-528103a1233b"
      },
      "execution_count": 42,
      "outputs": [
        {
          "output_type": "execute_result",
          "data": {
            "text/plain": [
              "   sepal_length  sepal_width  petal_length  petal_width      species\n",
              "0           5.1          3.5           1.4          0.2  Iris-setosa\n",
              "1           4.9          3.0           1.4          0.2  Iris-setosa\n",
              "2           4.7          3.2           1.3          0.2  Iris-setosa\n",
              "3           4.6          3.1           1.5          0.2  Iris-setosa\n",
              "4           5.0          3.6           1.4          0.2  Iris-setosa"
            ],
            "text/html": [
              "\n",
              "  <div id=\"df-2599a6df-5979-4736-b590-2239ae11ed23\" class=\"colab-df-container\">\n",
              "    <div>\n",
              "<style scoped>\n",
              "    .dataframe tbody tr th:only-of-type {\n",
              "        vertical-align: middle;\n",
              "    }\n",
              "\n",
              "    .dataframe tbody tr th {\n",
              "        vertical-align: top;\n",
              "    }\n",
              "\n",
              "    .dataframe thead th {\n",
              "        text-align: right;\n",
              "    }\n",
              "</style>\n",
              "<table border=\"1\" class=\"dataframe\">\n",
              "  <thead>\n",
              "    <tr style=\"text-align: right;\">\n",
              "      <th></th>\n",
              "      <th>sepal_length</th>\n",
              "      <th>sepal_width</th>\n",
              "      <th>petal_length</th>\n",
              "      <th>petal_width</th>\n",
              "      <th>species</th>\n",
              "    </tr>\n",
              "  </thead>\n",
              "  <tbody>\n",
              "    <tr>\n",
              "      <th>0</th>\n",
              "      <td>5.1</td>\n",
              "      <td>3.5</td>\n",
              "      <td>1.4</td>\n",
              "      <td>0.2</td>\n",
              "      <td>Iris-setosa</td>\n",
              "    </tr>\n",
              "    <tr>\n",
              "      <th>1</th>\n",
              "      <td>4.9</td>\n",
              "      <td>3.0</td>\n",
              "      <td>1.4</td>\n",
              "      <td>0.2</td>\n",
              "      <td>Iris-setosa</td>\n",
              "    </tr>\n",
              "    <tr>\n",
              "      <th>2</th>\n",
              "      <td>4.7</td>\n",
              "      <td>3.2</td>\n",
              "      <td>1.3</td>\n",
              "      <td>0.2</td>\n",
              "      <td>Iris-setosa</td>\n",
              "    </tr>\n",
              "    <tr>\n",
              "      <th>3</th>\n",
              "      <td>4.6</td>\n",
              "      <td>3.1</td>\n",
              "      <td>1.5</td>\n",
              "      <td>0.2</td>\n",
              "      <td>Iris-setosa</td>\n",
              "    </tr>\n",
              "    <tr>\n",
              "      <th>4</th>\n",
              "      <td>5.0</td>\n",
              "      <td>3.6</td>\n",
              "      <td>1.4</td>\n",
              "      <td>0.2</td>\n",
              "      <td>Iris-setosa</td>\n",
              "    </tr>\n",
              "  </tbody>\n",
              "</table>\n",
              "</div>\n",
              "    <div class=\"colab-df-buttons\">\n",
              "\n",
              "  <div class=\"colab-df-container\">\n",
              "    <button class=\"colab-df-convert\" onclick=\"convertToInteractive('df-2599a6df-5979-4736-b590-2239ae11ed23')\"\n",
              "            title=\"Convert this dataframe to an interactive table.\"\n",
              "            style=\"display:none;\">\n",
              "\n",
              "  <svg xmlns=\"http://www.w3.org/2000/svg\" height=\"24px\" viewBox=\"0 -960 960 960\">\n",
              "    <path d=\"M120-120v-720h720v720H120Zm60-500h600v-160H180v160Zm220 220h160v-160H400v160Zm0 220h160v-160H400v160ZM180-400h160v-160H180v160Zm440 0h160v-160H620v160ZM180-180h160v-160H180v160Zm440 0h160v-160H620v160Z\"/>\n",
              "  </svg>\n",
              "    </button>\n",
              "\n",
              "  <style>\n",
              "    .colab-df-container {\n",
              "      display:flex;\n",
              "      gap: 12px;\n",
              "    }\n",
              "\n",
              "    .colab-df-convert {\n",
              "      background-color: #E8F0FE;\n",
              "      border: none;\n",
              "      border-radius: 50%;\n",
              "      cursor: pointer;\n",
              "      display: none;\n",
              "      fill: #1967D2;\n",
              "      height: 32px;\n",
              "      padding: 0 0 0 0;\n",
              "      width: 32px;\n",
              "    }\n",
              "\n",
              "    .colab-df-convert:hover {\n",
              "      background-color: #E2EBFA;\n",
              "      box-shadow: 0px 1px 2px rgba(60, 64, 67, 0.3), 0px 1px 3px 1px rgba(60, 64, 67, 0.15);\n",
              "      fill: #174EA6;\n",
              "    }\n",
              "\n",
              "    .colab-df-buttons div {\n",
              "      margin-bottom: 4px;\n",
              "    }\n",
              "\n",
              "    [theme=dark] .colab-df-convert {\n",
              "      background-color: #3B4455;\n",
              "      fill: #D2E3FC;\n",
              "    }\n",
              "\n",
              "    [theme=dark] .colab-df-convert:hover {\n",
              "      background-color: #434B5C;\n",
              "      box-shadow: 0px 1px 3px 1px rgba(0, 0, 0, 0.15);\n",
              "      filter: drop-shadow(0px 1px 2px rgba(0, 0, 0, 0.3));\n",
              "      fill: #FFFFFF;\n",
              "    }\n",
              "  </style>\n",
              "\n",
              "    <script>\n",
              "      const buttonEl =\n",
              "        document.querySelector('#df-2599a6df-5979-4736-b590-2239ae11ed23 button.colab-df-convert');\n",
              "      buttonEl.style.display =\n",
              "        google.colab.kernel.accessAllowed ? 'block' : 'none';\n",
              "\n",
              "      async function convertToInteractive(key) {\n",
              "        const element = document.querySelector('#df-2599a6df-5979-4736-b590-2239ae11ed23');\n",
              "        const dataTable =\n",
              "          await google.colab.kernel.invokeFunction('convertToInteractive',\n",
              "                                                    [key], {});\n",
              "        if (!dataTable) return;\n",
              "\n",
              "        const docLinkHtml = 'Like what you see? Visit the ' +\n",
              "          '<a target=\"_blank\" href=https://colab.research.google.com/notebooks/data_table.ipynb>data table notebook</a>'\n",
              "          + ' to learn more about interactive tables.';\n",
              "        element.innerHTML = '';\n",
              "        dataTable['output_type'] = 'display_data';\n",
              "        await google.colab.output.renderOutput(dataTable, element);\n",
              "        const docLink = document.createElement('div');\n",
              "        docLink.innerHTML = docLinkHtml;\n",
              "        element.appendChild(docLink);\n",
              "      }\n",
              "    </script>\n",
              "  </div>\n",
              "\n",
              "\n",
              "<div id=\"df-284bf066-4585-4bbe-918d-71503d19e926\">\n",
              "  <button class=\"colab-df-quickchart\" onclick=\"quickchart('df-284bf066-4585-4bbe-918d-71503d19e926')\"\n",
              "            title=\"Suggest charts\"\n",
              "            style=\"display:none;\">\n",
              "\n",
              "<svg xmlns=\"http://www.w3.org/2000/svg\" height=\"24px\"viewBox=\"0 0 24 24\"\n",
              "     width=\"24px\">\n",
              "    <g>\n",
              "        <path d=\"M19 3H5c-1.1 0-2 .9-2 2v14c0 1.1.9 2 2 2h14c1.1 0 2-.9 2-2V5c0-1.1-.9-2-2-2zM9 17H7v-7h2v7zm4 0h-2V7h2v10zm4 0h-2v-4h2v4z\"/>\n",
              "    </g>\n",
              "</svg>\n",
              "  </button>\n",
              "\n",
              "<style>\n",
              "  .colab-df-quickchart {\n",
              "      --bg-color: #E8F0FE;\n",
              "      --fill-color: #1967D2;\n",
              "      --hover-bg-color: #E2EBFA;\n",
              "      --hover-fill-color: #174EA6;\n",
              "      --disabled-fill-color: #AAA;\n",
              "      --disabled-bg-color: #DDD;\n",
              "  }\n",
              "\n",
              "  [theme=dark] .colab-df-quickchart {\n",
              "      --bg-color: #3B4455;\n",
              "      --fill-color: #D2E3FC;\n",
              "      --hover-bg-color: #434B5C;\n",
              "      --hover-fill-color: #FFFFFF;\n",
              "      --disabled-bg-color: #3B4455;\n",
              "      --disabled-fill-color: #666;\n",
              "  }\n",
              "\n",
              "  .colab-df-quickchart {\n",
              "    background-color: var(--bg-color);\n",
              "    border: none;\n",
              "    border-radius: 50%;\n",
              "    cursor: pointer;\n",
              "    display: none;\n",
              "    fill: var(--fill-color);\n",
              "    height: 32px;\n",
              "    padding: 0;\n",
              "    width: 32px;\n",
              "  }\n",
              "\n",
              "  .colab-df-quickchart:hover {\n",
              "    background-color: var(--hover-bg-color);\n",
              "    box-shadow: 0 1px 2px rgba(60, 64, 67, 0.3), 0 1px 3px 1px rgba(60, 64, 67, 0.15);\n",
              "    fill: var(--button-hover-fill-color);\n",
              "  }\n",
              "\n",
              "  .colab-df-quickchart-complete:disabled,\n",
              "  .colab-df-quickchart-complete:disabled:hover {\n",
              "    background-color: var(--disabled-bg-color);\n",
              "    fill: var(--disabled-fill-color);\n",
              "    box-shadow: none;\n",
              "  }\n",
              "\n",
              "  .colab-df-spinner {\n",
              "    border: 2px solid var(--fill-color);\n",
              "    border-color: transparent;\n",
              "    border-bottom-color: var(--fill-color);\n",
              "    animation:\n",
              "      spin 1s steps(1) infinite;\n",
              "  }\n",
              "\n",
              "  @keyframes spin {\n",
              "    0% {\n",
              "      border-color: transparent;\n",
              "      border-bottom-color: var(--fill-color);\n",
              "      border-left-color: var(--fill-color);\n",
              "    }\n",
              "    20% {\n",
              "      border-color: transparent;\n",
              "      border-left-color: var(--fill-color);\n",
              "      border-top-color: var(--fill-color);\n",
              "    }\n",
              "    30% {\n",
              "      border-color: transparent;\n",
              "      border-left-color: var(--fill-color);\n",
              "      border-top-color: var(--fill-color);\n",
              "      border-right-color: var(--fill-color);\n",
              "    }\n",
              "    40% {\n",
              "      border-color: transparent;\n",
              "      border-right-color: var(--fill-color);\n",
              "      border-top-color: var(--fill-color);\n",
              "    }\n",
              "    60% {\n",
              "      border-color: transparent;\n",
              "      border-right-color: var(--fill-color);\n",
              "    }\n",
              "    80% {\n",
              "      border-color: transparent;\n",
              "      border-right-color: var(--fill-color);\n",
              "      border-bottom-color: var(--fill-color);\n",
              "    }\n",
              "    90% {\n",
              "      border-color: transparent;\n",
              "      border-bottom-color: var(--fill-color);\n",
              "    }\n",
              "  }\n",
              "</style>\n",
              "\n",
              "  <script>\n",
              "    async function quickchart(key) {\n",
              "      const quickchartButtonEl =\n",
              "        document.querySelector('#' + key + ' button');\n",
              "      quickchartButtonEl.disabled = true;  // To prevent multiple clicks.\n",
              "      quickchartButtonEl.classList.add('colab-df-spinner');\n",
              "      try {\n",
              "        const charts = await google.colab.kernel.invokeFunction(\n",
              "            'suggestCharts', [key], {});\n",
              "      } catch (error) {\n",
              "        console.error('Error during call to suggestCharts:', error);\n",
              "      }\n",
              "      quickchartButtonEl.classList.remove('colab-df-spinner');\n",
              "      quickchartButtonEl.classList.add('colab-df-quickchart-complete');\n",
              "    }\n",
              "    (() => {\n",
              "      let quickchartButtonEl =\n",
              "        document.querySelector('#df-284bf066-4585-4bbe-918d-71503d19e926 button');\n",
              "      quickchartButtonEl.style.display =\n",
              "        google.colab.kernel.accessAllowed ? 'block' : 'none';\n",
              "    })();\n",
              "  </script>\n",
              "</div>\n",
              "\n",
              "    </div>\n",
              "  </div>\n"
            ]
          },
          "metadata": {},
          "execution_count": 42
        }
      ]
    },
    {
      "cell_type": "markdown",
      "source": [
        "## Data Preprocessing (**Optinal**)"
      ],
      "metadata": {
        "id": "L-r44DjOMGJM"
      }
    },
    {
      "cell_type": "markdown",
      "source": [
        "**Data preprocessing:** is an important step in machine learning, it is the process of generating raw data for your models.\n",
        "\n",
        "Remember that machines understand numbers only so to them 'Iris-setosa' doesnt mean anything.\n",
        "\n",
        "💡**Hint:**Try to **Encode** the classes into numbers? this [link](https://www.geeksforgeeks.org/how-to-convert-categorical-string-data-into-numeric-in-python/) can be helpful"
      ],
      "metadata": {
        "id": "v-YwR_xMN34-"
      }
    },
    {
      "cell_type": "code",
      "source": [
        "df.loc[df.species == 'Iris-setosa', 'species'] = 0\n",
        "df.loc[df.species == 'Iris-virginica', 'species'] = 1\n",
        "df.loc[df.species == 'Iris-versicolor', 'species'] = 2"
      ],
      "metadata": {
        "id": "2bfMFz2XMBWu"
      },
      "execution_count": 43,
      "outputs": []
    },
    {
      "cell_type": "markdown",
      "source": [
        "## Data Splitting"
      ],
      "metadata": {
        "id": "sJNuUqczSkrO"
      }
    },
    {
      "cell_type": "markdown",
      "source": [
        "First lets extract the Ys (classes) and the X (samples).\n",
        "\n",
        "💡**Hints**: read more about dropping columns [here](https://pandas.pydata.org/docs/reference/api/pandas.DataFrame.drop.html)."
      ],
      "metadata": {
        "id": "5ptBc-9Nd964"
      }
    },
    {
      "cell_type": "code",
      "source": [
        "x = df.drop('species', axis = 1)\n",
        "y = df.species"
      ],
      "metadata": {
        "id": "kKbDAU2IMXCs"
      },
      "execution_count": 44,
      "outputs": []
    },
    {
      "cell_type": "markdown",
      "source": [
        "Now let's split our data to train and test using **model_selection.train_test_split** method.\n",
        "\n",
        "💡**hint**: read more about the method [here](https://scikit-learn.org/stable/modules/generated/sklearn.model_selection.train_test_split.html)."
      ],
      "metadata": {
        "id": "BW5mSHPAbsU_"
      }
    },
    {
      "cell_type": "code",
      "source": [
        "X_train, X_test, Y_train, Y_test = model_selection.train_test_split(x,y,test_size=0.2, shuffle = True)"
      ],
      "metadata": {
        "id": "bXG92gH9eFLL"
      },
      "execution_count": 45,
      "outputs": []
    },
    {
      "cell_type": "markdown",
      "source": [
        "Now lets transform these data frames into numpy arrays\n",
        "\n",
        "💡 **Hint**: read more about converting dfs to numpy arrays [here](https://pandas.pydata.org/docs/reference/api/pandas.DataFrame.to_numpy.html)."
      ],
      "metadata": {
        "id": "lT6pOlZueR-P"
      }
    },
    {
      "cell_type": "code",
      "source": [
        "X_train = X_train.to_numpy(dtype = 'float32')\n",
        "X_test = X_test.to_numpy(dtype = 'float32')\n",
        "Y_train = Y_train.to_numpy(dtype = 'int64')\n",
        "Y_test = Y_test.to_numpy(dtype = 'int64')"
      ],
      "metadata": {
        "id": "TqvCxUFzeRu3"
      },
      "execution_count": 46,
      "outputs": []
    },
    {
      "cell_type": "markdown",
      "source": [
        "## Model Training"
      ],
      "metadata": {
        "id": "Um-LXQo5SnCO"
      }
    },
    {
      "cell_type": "markdown",
      "source": [
        "To train our model we are going to use **Pytroch** library. but remember our data **X and Y** is a numpy object while pytorch works with pytorch tensors.\n",
        "\n",
        "💡 **hint**: torch has a method to convert numpy arrays into tensors. this [link](https://www.tutorialspoint.com/how-to-convert-a-numpy-ndarray-to-a-pytorch-tensor-and-vice-versa) may be helpful."
      ],
      "metadata": {
        "id": "0TD1COm2cDWI"
      }
    },
    {
      "cell_type": "code",
      "source": [
        "X_train = torch.from_numpy(X_train)\n",
        "X_test = torch.from_numpy(X_test)\n",
        "Y_train = torch.from_numpy(Y_train)\n",
        "Y_test = torch.from_numpy(Y_test)"
      ],
      "metadata": {
        "id": "j6fQntM0M-rg"
      },
      "execution_count": 47,
      "outputs": []
    },
    {
      "cell_type": "markdown",
      "source": [
        "We are trying to to build a network.\n",
        "the suggested archeticture is\n",
        "\n",
        "\n",
        "*   One Linear layer (n, 5) # what is n?\n",
        "*   Activation function (sigmoid)\n",
        "*   Another Linear layer (m, 5) # what does m represents?\n",
        "*   Activation function (sigmoid)\n",
        "*   One Linear layer (z, o) # what does z and o represents?\n",
        "\n",
        "Then define your optimizer and cost function using pytorch\n",
        "\n",
        "follow these links for 💡 **hints**:\n",
        "\n",
        "[Defining optimizers in pytorch](https://pytorch.org/tutorials/beginner/basics/optimization_tutorial.html#optimizer)\n",
        "\n",
        "[Cross entopy loss in pytorch](https://neptune.ai/blog/pytorch-loss-functions)\n"
      ],
      "metadata": {
        "id": "vEaeX4JieyKW"
      }
    },
    {
      "cell_type": "code",
      "source": [
        "model = nn.Sequential(\n",
        "    nn.Linear(X_train.shape[1], 5),\n",
        "    nn.Sigmoid(),\n",
        "    nn.Linear(5, 5),\n",
        "    nn.Sigmoid(),\n",
        "    nn.Linear(5, 3)\n",
        ")\n",
        "\n",
        "optimizer = optim.SGD(model.parameters(), lr = 1e-2) # lr = 0.001\n",
        "critirion = nn.CrossEntropyLoss()"
      ],
      "metadata": {
        "id": "zvV1d4-IZyOX"
      },
      "execution_count": 48,
      "outputs": []
    },
    {
      "cell_type": "markdown",
      "source": [
        "Now that we defined our optimizer, loss function and model lets create a loop to train the model.\n",
        "\n",
        "Remember to create a list to store the loss of each iteration.\n",
        "\n",
        "Use the model to predict data.\n",
        "\n",
        "Compute the loss for the predicted data.\n",
        "\n",
        "What else should you do?\n",
        "\n",
        "💡 **Hint:** read [this](https://machinelearningmastery.com/creating-a-training-loop-for-pytorch-models/) to understand how training loops work."
      ],
      "metadata": {
        "id": "ZnlRnYltqaNH"
      }
    },
    {
      "cell_type": "code",
      "source": [
        "ls = []\n",
        "\n",
        "for i in range(3000):\n",
        "  a = model(X_train)\n",
        "\n",
        "  loss = critirion(a, Y_train)\n",
        "  loss.backward()\n",
        "\n",
        "  optimizer.step()\n",
        "  optimizer.zero_grad()\n",
        "\n",
        "  ls.append(loss.item())"
      ],
      "metadata": {
        "id": "NX6Y3hl0aOko"
      },
      "execution_count": 60,
      "outputs": []
    },
    {
      "cell_type": "markdown",
      "source": [
        "Now let's plot our loss.\n",
        "\n",
        "\n",
        "💡**Hint:** need a refresher on how to plot using matplot library? try [this](https://matplotlib.org/stable/api/_as_gen/matplotlib.pyplot.plot.html)."
      ],
      "metadata": {
        "id": "E_IqfUEcrRpS"
      }
    },
    {
      "cell_type": "code",
      "source": [
        "plt.plot(ls)"
      ],
      "metadata": {
        "id": "2P1iJsoBrQWN",
        "colab": {
          "base_uri": "https://localhost:8080/",
          "height": 448
        },
        "outputId": "0e59af60-8985-4efc-9394-c8b20052a095"
      },
      "execution_count": 61,
      "outputs": [
        {
          "output_type": "execute_result",
          "data": {
            "text/plain": [
              "[<matplotlib.lines.Line2D at 0x7926dbf71b10>]"
            ]
          },
          "metadata": {},
          "execution_count": 61
        },
        {
          "output_type": "display_data",
          "data": {
            "text/plain": [
              "<Figure size 640x480 with 1 Axes>"
            ],
            "image/png": "[encoded data removed]"
          },
          "metadata": {}
        }
      ]
    },
    {
      "cell_type": "markdown",
      "source": [
        "# Assessing Model Accuracy"
      ],
      "metadata": {
        "id": "ZQPAqPvDi1tB"
      }
    },
    {
      "cell_type": "markdown",
      "source": [
        "how about we assess our model?\n",
        "\n",
        "get the y_hat and extract the predicted class using softmax.\n",
        "\n",
        "\n",
        "![image.png](data:image/png;base64,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)\n",
        "\n",
        "Remeber how to use arg max in pytorch and its importance\n",
        "\n",
        "![image.png](data:image/png;base64,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)\n",
        "Then try to calculate the accuracy.\n",
        "\n",
        "💡 **Hints:**\n",
        "\n",
        "\n",
        "*   [What's softmax?](https://pytorch.org/docs/stable/generated/torch.nn.Softmax.html)\n",
        "*   accuracy = number of corrent predictions/all predictions\n"
      ],
      "metadata": {
        "id": "umu1ucfgsK_S"
      }
    },
    {
      "cell_type": "code",
      "source": [
        "y_hat = nn.functional.softmax(model(X_train), dim=1)\n",
        "pred = torch.argmax(y_hat, dim=1)\n",
        "accuracy = torch.sum(pred == Y_train) / pred.shape[0]"
      ],
      "metadata": {
        "id": "0s-USSSscAVB"
      },
      "execution_count": 62,
      "outputs": []
    },
    {
      "cell_type": "code",
      "source": [
        "accuracy.item() * 100"
      ],
      "metadata": {
        "colab": {
          "base_uri": "https://localhost:8080/"
        },
        "id": "StRE90ddP97H",
        "outputId": "6bb270aa-3583-4b6d-bb6d-bf1b0280a275"
      },
      "execution_count": 63,
      "outputs": [
        {
          "output_type": "execute_result",
          "data": {
            "text/plain": [
              "69.9999988079071"
            ]
          },
          "metadata": {},
          "execution_count": 63
        }
      ]
    },
    {
      "cell_type": "markdown",
      "source": [
        "Feed your model the test data and see how it performs."
      ],
      "metadata": {
        "id": "pAPe9VNFCa3e"
      }
    },
    {
      "cell_type": "code",
      "source": [
        "y_test = model(X_test)\n",
        "y_hat_test= nn.functional.softmax(model(X_test), dim=1)\n",
        "y_test_pred = torch.argmax(y_hat_test, dim=1)\n",
        "accuracy = torch.sum(y_test_pred == Y_test) / y_test_pred.shape[0]"
      ],
      "metadata": {
        "id": "2ABhfE84iPpp"
      },
      "execution_count": 64,
      "outputs": []
    },
    {
      "cell_type": "code",
      "source": [
        "accuracy.item() * 100"
      ],
      "metadata": {
        "colab": {
          "base_uri": "https://localhost:8080/"
        },
        "id": "qDDJxxeBQbLd",
        "outputId": "6d92a9a3-1d22-4312-eb65-75e7bbb93751"
      },
      "execution_count": 65,
      "outputs": [
        {
          "output_type": "execute_result",
          "data": {
            "text/plain": [
              "60.00000238418579"
            ]
          },
          "metadata": {},
          "execution_count": 65
        }
      ]
    },
    {
      "cell_type": "markdown",
      "source": [
        "## Confusion Matrix"
      ],
      "metadata": {
        "id": "Zp61XYmZfjiQ"
      }
    },
    {
      "cell_type": "markdown",
      "source": [
        "Do you remember confusion matrix?\n",
        "\n",
        "try to implement it here.\n",
        "\n",
        "💡**Hint:** see [this](hhttps://www.w3schools.com/python/python_ml_confusion_matrix.asp) for more info about implementing confusion matrix."
      ],
      "metadata": {
        "id": "m-vfHkt-ChLA"
      }
    },
    {
      "cell_type": "code",
      "source": [],
      "metadata": {
        "id": "5LCLSn-CfCdA"
      },
      "execution_count": 49,
      "outputs": []
    }
  ]
}