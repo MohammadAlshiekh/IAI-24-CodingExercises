{
 "cells": [
  {
   "cell_type": "code",
   "execution_count": 1,
   "metadata": {
    "id": "NFs5q8XAox82",
    "ExecuteTime": {
     "end_time": "2024-01-12T10:49:13.834414200Z",
     "start_time": "2024-01-12T10:49:13.742404200Z"
    }
   },
   "outputs": [],
   "source": [
    "from IPython.display import clear_output"
   ]
  },
  {
   "cell_type": "code",
   "execution_count": 2,
   "metadata": {
    "id": "HKSL__IwozZs"
   },
   "outputs": [],
   "source": [
    "# Download the required libraries (needed when running outside colab where the environment doesn't come pre-loaded with libraries)\n",
    "\n",
    "%pip install torch\n",
    "%pip install matplotlib\n",
    "%pip install torchvision\n",
    "\n",
    "clear_output()"
   ]
  },
  {
   "cell_type": "code",
   "execution_count": 3,
   "metadata": {
    "id": "xziZ2Kj1pZrq",
    "ExecuteTime": {
     "end_time": "2024-01-12T10:49:23.034443700Z",
     "start_time": "2024-01-12T10:49:20.090159800Z"
    }
   },
   "outputs": [],
   "source": [
    "import torch\n",
    "\n",
    "import torch.nn as nn\n",
    "\n",
    "from torchvision.datasets import MNIST\n",
    "from torch.utils.data import DataLoader\n",
    "from torch.optim import Adam\n",
    "\n",
    "from torchvision.transforms.functional import to_tensor\n",
    "\n",
    "import matplotlib.pyplot as plt"
   ]
  },
  {
   "cell_type": "markdown",
   "metadata": {
    "id": "1tH9YmdSAW7i"
   },
   "source": [
    "#Contents:\n",
    "\n",
    "1. Implementation of 1-2 layer NN fin pytorch which classifies MNIST dataset\n",
    "\n",
    "About MNIST:\n",
    "\n",
    "the dataset consists of images of 28x28 size. The image each contains a handwritten digit from 0 to 9. Our model needs to take this image and classify it to the correct digit.\n",
    "\n",
    "\n",
    "You need to know:\n",
    "\n",
    "1. **pytorch** (for impelementation)\n",
    "2. a little bit of **matplotlib** (for visualization)\n",
    "\n",
    "\n",
    "Good to have knowledge of:\n",
    "\n",
    "1. torch dataset and dataloader"
   ]
  },
  {
   "cell_type": "code",
   "execution_count": 4,
   "metadata": {
    "id": "ZTqeY0V6pV3T"
   },
   "outputs": [],
   "source": [
    "# MNIST function fetches the MNIST dataset. Without any transform param, the returned object is a Pillow image but we want to convert it to numerical form\n",
    "# that is to say, a numpy array/torch tensor\n",
    "\n",
    "# to_tensor is used to avoid errors when creating data loader later. we'll convert them to numpy arrays when the time comes\n",
    "train_data = MNIST(root='./datasets', train=True, download=True, transform=to_tensor)\n",
    "test_data  = MNIST(root='./datasets', train=False, download=True, transform=to_tensor)\n",
    "\n",
    "clear_output()"
   ]
  },
  {
   "cell_type": "code",
   "execution_count": 5,
   "metadata": {
    "id": "PWmnHXbSr9Al",
    "ExecuteTime": {
     "end_time": "2024-01-12T10:49:23.087463600Z",
     "start_time": "2024-01-12T10:49:23.083005700Z"
    }
   },
   "outputs": [],
   "source": [
    "batch_size = 64\n",
    "\n",
    "# Dataloaders are used to easily create batches of data so we can perform batch gradient descent for faster learning\n",
    "train_loader = DataLoader(train_data, batch_size=batch_size)\n",
    "test_loader = DataLoader(test_data, batch_size=batch_size)"
   ]
  },
  {
   "cell_type": "markdown",
   "metadata": {
    "id": "9aQrW8JC0HBo"
   },
   "source": [
    "## Models\n",
    "\n",
    "let's create the architecture of our models\n",
    "\n",
    "Instead of sigmoid activation, we'll use softmax activation\n",
    "\n",
    "The difference is:\n",
    "- sigmoid brings each value in the range 0-1\n",
    "- softmax takes a vector and changes the value into probabilities: i.e the sum of those values = 1. The highest value in the original vector retains the highest value in softmax output\n",
    "\n",
    "Here's the formula for softmax:\n",
    "\n",
    "$$\n",
    "\\text{Softmax}(x)_i = \\frac{e^{x_i}}{\\sum_{j} e^{x_j}}\n",
    "$$"
   ]
  },
  {
   "cell_type": "code",
   "execution_count": 6,
   "metadata": {
    "id": "CXfUV5ZLzGKa",
    "ExecuteTime": {
     "end_time": "2024-01-12T10:49:23.102498700Z",
     "start_time": "2024-01-12T10:49:23.092464600Z"
    }
   },
   "outputs": [],
   "source": [
    "class NN1Layer(nn.Module):\n",
    "\n",
    "  def __init__(self, num_inp, num_out):\n",
    "\n",
    "    super(NN1Layer, self).__init__()\n",
    "\n",
    "    self.layer_1 = nn.Linear(num_inp, num_out)\n",
    "    self.softmax = nn.Softmax(dim=1)\n",
    "\n",
    "  def forward(self, x):\n",
    "\n",
    "    z = self.layer_1(x)\n",
    "    a = self.softmax(z)\n",
    "\n",
    "    return a\n",
    "\n",
    "\n",
    "class NN2Layer(nn.Module):\n",
    "\n",
    "  def __init__(self, num_inp, num_hidden, num_out):\n",
    "\n",
    "    super(NN2Layer, self).__init__()\n",
    "\n",
    "    self.layer_1 = nn.Linear(num_inp, num_hidden)\n",
    "    self.layer_2 = nn.Linear(num_hidden, num_out)\n",
    "\n",
    "    self.hidden_activation = nn.ReLU()  # We can change the hidden activation (activation in between layer 1 and 2) here\n",
    "    self.softmax = nn.Softmax(dim=1)  # dim 0 is normally batch size, we don't want to apply softmax across batch size\n",
    "\n",
    "  def forward(self, x):\n",
    "\n",
    "    z1 = self.layer_1(x)\n",
    "    a1 = self.hidden_activation(z1)\n",
    "\n",
    "    z2 = self.layer_2(a1)\n",
    "    a2 = self.softmax(z2)\n",
    "\n",
    "    return a2"
   ]
  },
  {
   "cell_type": "markdown",
   "metadata": {
    "id": "8u_e7ldrtHh1"
   },
   "source": [
    "## The main training loop, with batch gradient descent.\n",
    "\n"
   ]
  },
  {
   "cell_type": "markdown",
   "metadata": {
    "id": "KhSQZRw36s0k"
   },
   "source": [
    "Declare model, it's params, optimizers and criterion etc\n",
    "\n",
    "We'll also declare a device here. This will let us use GPU\n",
    "you can see how much difference a GPU makes by changing the device param to cpu and cuda"
   ]
  },
  {
   "cell_type": "code",
   "execution_count": 7,
   "metadata": {
    "colab": {
     "base_uri": "https://localhost:8080/"
    },
    "id": "TCMTZkue74nL",
    "outputId": "0033c29d-194b-477c-be0d-a21a2cd8ea7f",
    "ExecuteTime": {
     "end_time": "2024-01-12T10:49:23.106439800Z",
     "start_time": "2024-01-12T10:49:23.099498500Z"
    }
   },
   "outputs": [
    {
     "name": "stdout",
     "output_type": "stream",
     "text": [
      "Using device cpu\n"
     ]
    }
   ],
   "source": [
    "num_epochs = 12\n",
    "lr = 1e-4\n",
    "\n",
    "device = 'cuda' if torch.cuda.is_available() else 'cpu'  # checks if machine supports cuda and if it does, we use that, otherwise cpu\n",
    "\n",
    "train_losses = []\n",
    "val_losses = []\n",
    "\n",
    "# model = NN1Layer(28*28, 10)  # 28*28 because that's the input side. 10 because that's the numbber of classes (0-9)\n",
    "model = NN2Layer(28*28, 32, 10)  # The 2 layer one is equivalent to the one we implemented in numpy\n",
    "\n",
    "optimizer = Adam(model.parameters(), lr=lr)\n",
    "criterion = nn.CrossEntropyLoss()  # multi-class\n",
    "\n",
    "model.to(device)  # we need to send all input tensors as well as our model to this device. by default they are on cpu\n",
    "\n",
    "print(f'Using device {device}')"
   ]
  },
  {
   "cell_type": "markdown",
   "metadata": {
    "id": "4r4KeFeG8mF4"
   },
   "source": [
    "Pre-train performance"
   ]
  },
  {
   "cell_type": "code",
   "execution_count": 8,
   "metadata": {
    "colab": {
     "base_uri": "https://localhost:8080/"
    },
    "id": "h-qDqF6f8oIp",
    "outputId": "ed76a846-1299-475d-fb8f-69517e69c9b3",
    "ExecuteTime": {
     "end_time": "2024-01-12T10:49:24.229768400Z",
     "start_time": "2024-01-12T10:49:23.107436500Z"
    }
   },
   "outputs": [
    {
     "name": "stdout",
     "output_type": "stream",
     "text": [
      "val_loss=2.3028599418640137. labelled 1165/10000 correctly (11.65% accuracy)\n",
      "CPU times: total: 4.66 s\n",
      "Wall time: 1.12 s\n"
     ]
    }
   ],
   "source": [
    "%%time\n",
    "model.eval()\n",
    "correctly_labelled = 0\n",
    "with torch.no_grad():\n",
    "\n",
    "  val_epoch_weighted_loss = 0\n",
    "\n",
    "  for val_batch_X, val_batch_y in test_loader:\n",
    "    val_batch_X = val_batch_X.view(-1, 28*28).to(device)\n",
    "    val_batch_y = val_batch_y.to(device)\n",
    "\n",
    "    val_batch_y_probs = model(val_batch_X)\n",
    "\n",
    "    loss = criterion(val_batch_y_probs, val_batch_y)\n",
    "    val_epoch_weighted_loss += (len(val_batch_y)*loss.item())\n",
    "\n",
    "    val_batch_y_pred = val_batch_y_probs.argmax(dim=1)  # convert probailities to labels by picking the label (index) with the highest prob   \n",
    "\n",
    "    correctly_labelled += (val_batch_y_pred == val_batch_y).sum().item()  # item converts tensor to float/int/list\n",
    "\n",
    "val_epoch_loss = val_epoch_weighted_loss/len(test_loader.dataset)\n",
    "val_losses.append(val_epoch_loss)\n",
    "\n",
    "print(f'val_loss={val_epoch_loss}. labelled {correctly_labelled}/{len(test_loader.dataset)} correctly ({correctly_labelled/len(test_loader.dataset)*100}% accuracy)')\n"
   ]
  },
  {
   "cell_type": "markdown",
   "metadata": {
    "id": "bZzBFOA48Fb7"
   },
   "source": [
    "Training the model"
   ]
  },
  {
   "cell_type": "code",
   "execution_count": 9,
   "metadata": {
    "colab": {
     "base_uri": "https://localhost:8080/"
    },
    "id": "sy0ChPzH7_wx",
    "outputId": "3a5ba8e6-7a29-4c18-83fc-fcb7dcff67bf",
    "ExecuteTime": {
     "end_time": "2024-01-12T10:51:02.458771500Z",
     "start_time": "2024-01-12T10:49:24.231766300Z"
    }
   },
   "outputs": [
    {
     "name": "stdout",
     "output_type": "stream",
     "text": [
      "Epoch: 0, train_loss=1.9930212257385254, val_loss=1.7632749792098998. labelled 7983/10000 correctly (79.83% accuracy)\n",
      "Epoch: 1, train_loss=1.7114812658309937, val_loss=1.6510830728530883. labelled 8817/10000 correctly (88.17% accuracy)\n",
      "Epoch: 2, train_loss=1.6357574692408243, val_loss=1.609331455230713. labelled 8982/10000 correctly (89.82% accuracy)\n",
      "Epoch: 3, train_loss=1.6059365554173788, val_loss=1.5901406343460083. labelled 9055/10000 correctly (90.55% accuracy)\n",
      "Epoch: 4, train_loss=1.5899605401992798, val_loss=1.5786819520950317. labelled 9094/10000 correctly (90.94% accuracy)\n",
      "Epoch: 5, train_loss=1.579684856414795, val_loss=1.570845869255066. labelled 9119/10000 correctly (91.19% accuracy)\n",
      "Epoch: 6, train_loss=1.5723665552139283, val_loss=1.5650917724609374. labelled 9147/10000 correctly (91.47% accuracy)\n",
      "Epoch: 7, train_loss=1.5668031545003256, val_loss=1.5606100605010986. labelled 9158/10000 correctly (91.58% accuracy)\n",
      "Epoch: 8, train_loss=1.5623807603200277, val_loss=1.5569802944183349. labelled 9185/10000 correctly (91.85% accuracy)\n",
      "Epoch: 9, train_loss=1.558744975153605, val_loss=1.5539615188598632. labelled 9202/10000 correctly (92.02% accuracy)\n",
      "Epoch: 10, train_loss=1.5556664105097453, val_loss=1.5513683185577392. labelled 9228/10000 correctly (92.28% accuracy)\n",
      "Epoch: 11, train_loss=1.5529941949208577, val_loss=1.5491208715438842. labelled 9238/10000 correctly (92.38% accuracy)\n",
      "Training complete on device cpu. Change device variable and run again to see the difference.\n",
      "CPU times: total: 6min 25s\n",
      "Wall time: 1min 38s\n"
     ]
    }
   ],
   "source": [
    "%%time\n",
    "for epoch_no in range(num_epochs):\n",
    "\n",
    "  model.train()  # convert to train model. This turns out train-specific layers in the model (if you dont know about them, an example of them is dropout. more on this later)\n",
    "\n",
    "  epoch_weighted_loss = 0\n",
    "\n",
    "  for batch_X, batch_y in train_loader:\n",
    "\n",
    "    batch_X = batch_X.view(-1, 28*28).to(device)  # convert to [N, 28*28] shape where N is batch_size\n",
    "    batch_y = batch_y.to(device)\n",
    "\n",
    "    batch_y_probs = model(batch_X)  # outputs [N, 10] where each [:, 10] is probabilities for class (0-9)\n",
    "\n",
    "    loss = criterion(batch_y_probs, batch_y)\n",
    "\n",
    "    optimizer.zero_grad()  # need to clear out gradients from previous batch\n",
    "    loss.backward()  # calculate new gradients\n",
    "    optimizer.step()  # update weights\n",
    "\n",
    "    epoch_weighted_loss += (len(batch_y)*loss.item())\n",
    "\n",
    "  epoch_loss = epoch_weighted_loss/len(train_loader.dataset)\n",
    "  train_losses.append(epoch_loss)    # add loss for tracking. we'll visualize the loss trajectory later\n",
    "\n",
    "\n",
    "  # validation time\n",
    "\n",
    "  model.eval()  # take model to evaluation mode. turn off train-only layers\n",
    "  correctly_labelled = 0\n",
    "\n",
    "  with torch.no_grad():  # this makes our model to NOT track gradients\n",
    "\n",
    "    val_epoch_weighted_loss = 0\n",
    "\n",
    "    for val_batch_X, val_batch_y in test_loader:\n",
    "\n",
    "      val_batch_X = val_batch_X.view(-1, 28*28).to(device)\n",
    "      val_batch_y = val_batch_y.to(device)\n",
    "\n",
    "      val_batch_y_probs = model(val_batch_X)\n",
    "\n",
    "      loss = criterion(val_batch_y_probs, val_batch_y)\n",
    "      val_epoch_weighted_loss += (len(val_batch_y)*loss.item())\n",
    "\n",
    "      val_batch_y_pred = val_batch_y_probs.argmax(dim=1)  # convert probailities to labels by picking the label (index) with the highest prob\n",
    "\n",
    "      correctly_labelled += (val_batch_y_pred == val_batch_y).sum().item()  # item converts tensor to float/int/list\n",
    "\n",
    "  val_epoch_loss = val_epoch_weighted_loss/len(test_loader.dataset)\n",
    "  val_losses.append(val_epoch_loss)\n",
    "\n",
    "  print(f'Epoch: {epoch_no}, train_loss={epoch_loss}, val_loss={val_epoch_loss}. labelled {correctly_labelled}/{len(test_loader.dataset)} correctly ({correctly_labelled/len(test_loader.dataset)*100}% accuracy)')\n",
    "\n",
    "print(f'Training complete on device {device}. Change device variable and run again to see the difference.')"
   ]
  },
  {
   "cell_type": "markdown",
   "metadata": {
    "id": "WvNZwZsd_4Nf"
   },
   "source": [
    "Loss trajectory"
   ]
  },
  {
   "cell_type": "code",
   "execution_count": 10,
   "metadata": {
    "colab": {
     "base_uri": "https://localhost:8080/",
     "height": 449
    },
    "id": "Jtaq-nooqSj9",
    "outputId": "d30f6cf3-53fe-4cc2-e295-04dc2128f2d6",
    "ExecuteTime": {
     "end_time": "2024-01-12T10:51:02.641002700Z",
     "start_time": "2024-01-12T10:51:02.460771400Z"
    }
   },
   "outputs": [
    {
     "data": {
      "text/plain": "<Figure size 640x480 with 1 Axes>",
      "image/png": "[encoded data removed]"
     },
     "metadata": {},
     "output_type": "display_data"
    }
   ],
   "source": [
    "plt.plot(train_losses, label='train loss')\n",
    "plt.plot(val_losses, label='val loss')\n",
    "plt.xlabel('Epoch')\n",
    "plt.ylabel('Loss (Cross Entropy)')\n",
    "plt.legend()\n",
    "plt.show()"
   ]
  },
  {
   "cell_type": "markdown",
   "metadata": {
    "id": "G8Jf5i7IAswc"
   },
   "source": [
    "visualizing shapes"
   ]
  },
  {
   "cell_type": "code",
   "execution_count": 11,
   "metadata": {
    "colab": {
     "base_uri": "https://localhost:8080/"
    },
    "id": "eOaxXyMg-ahW",
    "outputId": "ed1b3391-2211-4623-f28a-fbd71f91e563",
    "ExecuteTime": {
     "end_time": "2024-01-12T10:51:02.661483700Z",
     "start_time": "2024-01-12T10:51:02.643002300Z"
    }
   },
   "outputs": [
    {
     "name": "stdout",
     "output_type": "stream",
     "text": [
      "torch.Size([16, 784]) torch.Size([16])\n",
      "torch.Size([16, 10])\n",
      "torch.Size([16])\n",
      "\n",
      "\n",
      "To verify softmax converts inputs into probabilities (sum of which is 1), let's sum those probabilities and see if we get 1's: \n",
      "\n",
      "val_batch_y_probs.sum(1)=tensor([1.0000, 1.0000, 1.0000, 1.0000, 1.0000, 1.0000, 1.0000, 1.0000, 1.0000,\n",
      "        1.0000, 1.0000, 1.0000, 1.0000, 1.0000, 1.0000, 1.0000])\n",
      "\n",
      "val_batch_y_probs.sum(1).shape=torch.Size([16])\n",
      "\n",
      "\n",
      "Lets see argmax in action\n",
      "Here's one of the input to argmax\n",
      "\n",
      "tensor([3.3098e-08, 3.3350e-20, 1.3953e-07, 2.2705e-15, 3.7380e-10, 4.9755e-10,\n",
      "        1.0000e+00, 3.9689e-16, 8.5565e-12, 7.0786e-13])\n",
      "\n",
      "\n",
      "Here's its output\n",
      "tensor(6)\n"
     ]
    }
   ],
   "source": [
    "print(val_batch_X.shape, val_batch_y.shape)  # 784 is 28*28\n",
    "print(val_batch_y_probs.shape)  # inference from model\n",
    "print(val_batch_y_pred.shape)  # probabilities converted\n",
    "\n",
    "print(\"\\n\\nTo verify softmax converts inputs into probabilities (sum of which is 1), let's sum those probabilities and see if we get 1's: \\n\")\n",
    "print(f'{val_batch_y_probs.sum(1)=}')\n",
    "\n",
    "print(f'\\n{val_batch_y_probs.sum(1).shape=}')\n",
    "\n",
    "print('\\n\\nLets see argmax in action')\n",
    "print(\"Here's one of the input to argmax\\n\")\n",
    "test_idx = 15\n",
    "print(val_batch_y_probs[test_idx].cpu())  # .cpu() brings a tensor back to cpu device from any other it might be on (like cuda)\n",
    "print(\"\\n\\nHere's its output\")\n",
    "print(val_batch_y_pred[test_idx].cpu())"
   ]
  },
  {
   "cell_type": "markdown",
   "metadata": {
    "id": "_iw2G2akA5lB"
   },
   "source": [
    "Saving and loading the model"
   ]
  },
  {
   "cell_type": "code",
   "execution_count": 12,
   "metadata": {
    "id": "Hi61n3DJAtvp",
    "ExecuteTime": {
     "end_time": "2024-01-12T10:51:02.727589700Z",
     "start_time": "2024-01-12T10:51:02.662481300Z"
    }
   },
   "outputs": [],
   "source": [
    "# you can load save the model's state dict like this\n",
    "torch.save(model.state_dict(), 'MNIST_classifier.pt')  # take a look at the storage section if you're on colab"
   ]
  },
  {
   "cell_type": "code",
   "execution_count": 13,
   "metadata": {
    "colab": {
     "base_uri": "https://localhost:8080/"
    },
    "id": "MC84w0WpBE2Q",
    "outputId": "b9ca6b2e-52ae-4912-f589-e82c21db8dae",
    "ExecuteTime": {
     "end_time": "2024-01-12T10:51:02.728592Z",
     "start_time": "2024-01-12T10:51:02.671245Z"
    }
   },
   "outputs": [
    {
     "name": "stdout",
     "output_type": "stream",
     "text": [
      "Before loading model\n",
      "2/16 correct\n",
      "After loading model\n",
      "15/16 correct\n"
     ]
    }
   ],
   "source": [
    "loaded_model = NN2Layer(28*28, 32, 10)  # just an empty model.\n",
    "loaded_model.eval().to(device)\n",
    "\n",
    "print('Before loading model')\n",
    "\n",
    "with torch.no_grad():\n",
    "  probs = loaded_model(val_batch_X)\n",
    "  preds = probs.argmax(dim=1)\n",
    "\n",
    "  print(f'{(preds==val_batch_y).sum()}/{len(preds)} correct')\n",
    "\n",
    "\n",
    "print('After loading model')\n",
    "loaded_model.load_state_dict(torch.load('MNIST_classifier.pt'))\n",
    "\n",
    "with torch.no_grad():\n",
    "  probs = loaded_model(val_batch_X)\n",
    "  preds = probs.argmax(dim=1)\n",
    "\n",
    "  print(f'{(preds==val_batch_y).sum()}/{len(preds)} correct')"
   ]
  },
  {
   "cell_type": "markdown",
   "metadata": {
    "id": "hTWzqt7SCQaz"
   },
   "source": [
    "END."
   ]
  },
  {
   "cell_type": "code",
   "execution_count": 13,
   "metadata": {
    "id": "2n4cITtHB6Xa",
    "ExecuteTime": {
     "end_time": "2024-01-12T10:51:02.728592Z",
     "start_time": "2024-01-12T10:51:02.687957900Z"
    }
   },
   "outputs": [],
   "source": []
  },
  {
   "cell_type": "code",
   "execution_count": 13,
   "outputs": [],
   "source": [],
   "metadata": {
    "collapsed": false,
    "ExecuteTime": {
     "end_time": "2024-01-12T10:51:02.728592Z",
     "start_time": "2024-01-12T10:51:02.692193Z"
    }
   }
  },
  {
   "cell_type": "code",
   "execution_count": 13,
   "outputs": [],
   "source": [],
   "metadata": {
    "collapsed": false,
    "ExecuteTime": {
     "end_time": "2024-01-12T10:51:02.728592Z",
     "start_time": "2024-01-12T10:51:02.694825900Z"
    }
   }
  }
 ],
 "metadata": {
  "accelerator": "GPU",
  "colab": {
   "gpuType": "T4",
   "provenance": []
  },
  "kernelspec": {
   "name": "python3",
   "language": "python",
   "display_name": "Python 3 (ipykernel)"
  },
  "language_info": {
   "codemirror_mode": {
    "name": "ipython",
    "version": 3
   },
   "file_extension": ".py",
   "mimetype": "text/x-python",
   "name": "python",
   "nbconvert_exporter": "python",
   "pygments_lexer": "ipython3",
   "version": "3.9.7"
  }
 },
 "nbformat": 4,
 "nbformat_minor": 0
}
